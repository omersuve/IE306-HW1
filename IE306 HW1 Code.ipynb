{
  "nbformat": 4,
  "nbformat_minor": 0,
  "metadata": {
    "colab": {
      "name": "IE306 HW1 Code.ipynb",
      "provenance": []
    },
    "kernelspec": {
      "display_name": "Python 3",
      "language": "python",
      "name": "python3"
    },
    "language_info": {
      "codemirror_mode": {
        "name": "ipython",
        "version": 3
      },
      "file_extension": ".py",
      "mimetype": "text/x-python",
      "name": "python",
      "nbconvert_exporter": "python",
      "pygments_lexer": "ipython3",
      "version": "3.8.3"
    }
  },
  "cells": [
    {
      "cell_type": "code",
      "metadata": {
        "id": "aL2lMreBmAt6",
        "outputId": "be2d9aa1-c7df-40fc-8faf-4e73009080a9",
        "colab": {
          "base_uri": "https://localhost:8080/"
        }
      },
      "source": [
        "!pip install simpy\n",
        "import simpy\n",
        "import random\n",
        "import math\n",
        "import numpy as np"
      ],
      "execution_count": 31,
      "outputs": [
        {
          "output_type": "stream",
          "text": [
            "Requirement already satisfied: simpy in /usr/local/lib/python3.7/dist-packages (4.0.1)\n"
          ],
          "name": "stdout"
        }
      ]
    },
    {
      "cell_type": "code",
      "metadata": {
        "colab": {
          "base_uri": "https://localhost:8080/"
        },
        "id": "IFhy22hvmAt_",
        "outputId": "73a3c36e-2791-4872-d184-599e594931ec"
      },
      "source": [
        "Total_Time = 10\n",
        "\n",
        "RANDOM_SEED = 1\n",
        "random.seed(RANDOM_SEED)\n",
        "\n",
        "hospital_treating_time_rate = 6\n",
        "home_treating_time_rate = 10\n",
        "\n",
        "num_of_individuals = 0\n",
        "S = 147 + 177 + 207\n",
        "if(S > 1000): num_of_individuals = S\n",
        "elif(S > 10): num_of_individuals = S + 1000\n",
        "else: num_of_individuals = S*300\n",
        "    \n",
        "total_sick = 0\n",
        "\n",
        "num_of_individuals = 24\n",
        "    \n",
        "num_of_beds = math.ceil(num_of_individuals/12)\n",
        "exponential_rate = num_of_individuals/300\n",
        "\n",
        "print(num_of_individuals, exponential_rate, num_of_beds)"
      ],
      "execution_count": 32,
      "outputs": [
        {
          "output_type": "stream",
          "text": [
            "24 0.08 2\n"
          ],
          "name": "stdout"
        }
      ]
    },
    {
      "cell_type": "markdown",
      "metadata": {
        "id": "_Fongh_MmAuA"
      },
      "source": [
        "Define the necessary set of arrays for bookkeeping"
      ]
    },
    {
      "cell_type": "code",
      "metadata": {
        "id": "T708k2rRmAuB"
      },
      "source": [
        "service_times = [] #Duration of the conversation between the customer and the operator (Service time)"
      ],
      "execution_count": 33,
      "outputs": []
    },
    {
      "cell_type": "code",
      "metadata": {
        "id": "VMOVuwJHmAuC"
      },
      "source": [
        "class Patient(object):\n",
        "    def __init__(self, name, env, opr, isInitial):\n",
        "        self.env = env\n",
        "        self.name = name\n",
        "        self.arrival_t = self.env.now\n",
        "        self.r = random.uniform(1,2)\n",
        "        self.hospital2home_treating_time_rate = 6*self.r\n",
        "        self.isInitial = isInitial\n",
        "        self.action = env.process(self.try_to_heal())\n",
        "    \n",
        "    \n",
        "    def try_to_heal(self):\n",
        "        if(not self.isInitial and self.is_going_hospital() == False):\n",
        "            print('%s at home at %g' % (self.name, math.ceil(self.env.now)))\n",
        "            yield self.env.process(self.healing())\n",
        "            print('%s is healed at %g in home' % (self.name, math.ceil(self.env.now)))\n",
        "        else:\n",
        "            print('%s arrives hospital at %g' % (self.name, math.ceil(self.env.now)))\n",
        "            with bed.request() as req:\n",
        "                yield req\n",
        "                print('%s is assigned to a bed at %g' % (self.name, math.ceil(self.env.now)))\n",
        "                yield self.env.process(self.healing())\n",
        "                print('%s is healed at %g' % (self.name, math.ceil(self.env.now)))\n",
        "            \n",
        "            \n",
        "    def healing(self):\n",
        "        if((self.is_going_hospital and bed.count != num_of_beds) or self.isInitial):\n",
        "            duration = random.expovariate(1.0/hospital_treating_time_rate)\n",
        "        elif(self.is_going_hospital):\n",
        "            print(\"%s returns home.\" %(self.name))\n",
        "            duration = random.expovariate(1.0/self.hospital2home_treating_time_rate)\n",
        "        else:\n",
        "            duration = random.expovariate(1.0/home_treating_time_rate)\n",
        "        yield self.env.timeout(duration)\n",
        "        service_times.append(math.ceil(duration))\n",
        "        \n",
        "        \n",
        "    def is_going_hospital(self):\n",
        "        random_number = random.random()\n",
        "        if(random_number > 0.2): return False\n",
        "        else: return True\n",
        "    "
      ],
      "execution_count": 34,
      "outputs": []
    },
    {
      "cell_type": "code",
      "metadata": {
        "id": "0rxGWCJamAuE"
      },
      "source": [
        "def patient_generator(env, bed):\n",
        "    \"\"\"Generate new patients with using exponential rate!!!.\"\"\"\n",
        "    for i in range(Total_Time):\n",
        "        sick_num_in_day = math.ceil(random.expovariate(1.0/exponential_rate))\n",
        "        print('at day %s , %s people got sick' %((i+1), sick_num_in_day))\n",
        "        \n",
        "        #yield env.timeout(random.expovariate(exponential_rate))\n",
        "        \n",
        "        for j in range(sick_num_in_day):\n",
        "            patient = Patient('Patient %s' %(total_sick+1), env, bed, False)\n",
        "            total_sick = total_sick + 1\n",
        "        \n",
        "        yield env.timeout(1)"
      ],
      "execution_count": 35,
      "outputs": []
    },
    {
      "cell_type": "code",
      "metadata": {
        "id": "kQp4yq4E00Jf"
      },
      "source": [
        "def patient_generator_half_full(env, bed):\n",
        "    for i in range (num_of_beds // 2):\n",
        "        yield env.timeout(0)\n",
        "        patient = Patient('Patient initial %s' %(i+1), env, bed, True)\n",
        "    for i in range(Total_Time):\n",
        "        sick_num_in_day = math.ceil(random.expovariate(1.0/exponential_rate))\n",
        "        print('at day %s , %s people got sick' %((i+1), sick_num_in_day))\n",
        "        \n",
        "        #yield env.timeout(random.expovariate(exponential_rate))\n",
        "        \n",
        "        for j in range(sick_num_in_day):\n",
        "            patient = Patient('Patient %s' %(total_sick+1), env, bed, False)\n",
        "            total_sick = total_sick + 1\n",
        "        \n",
        "        yield env.timeout(1)"
      ],
      "execution_count": 36,
      "outputs": []
    },
    {
      "cell_type": "code",
      "metadata": {
        "id": "JM-ziYIV1ZSE"
      },
      "source": [
        "def patient_generator_full(env, bed, total_sick):\n",
        "    for i in range (num_of_beds):\n",
        "        yield env.timeout(0)\n",
        "        patient = Patient('Patient initial %s' %(i+1), env, bed, True)\n",
        "    for i in range(Total_Time):\n",
        "        sick_num_in_day = math.ceil(random.expovariate(1.0/exponential_rate))\n",
        "        print('at day %s , %s people got sick' %((i+1), sick_num_in_day))\n",
        "        \n",
        "        #yield env.timeout(random.expovariate(exponential_rate))\n",
        "        \n",
        "        for j in range(sick_num_in_day):\n",
        "            patient = Patient('Patient %s' %(total_sick+1), env, bed, False)\n",
        "            total_sick = total_sick + 1\n",
        "        \n",
        "        yield env.timeout(1)"
      ],
      "execution_count": 37,
      "outputs": []
    },
    {
      "cell_type": "code",
      "metadata": {
        "colab": {
          "base_uri": "https://localhost:8080/"
        },
        "id": "WMnkCA82mAuG",
        "outputId": "2e35211a-3280-4586-e92f-6bede31f9c31"
      },
      "source": [
        "env = simpy.Environment()\n",
        "bed = simpy.Resource(env, capacity = num_of_beds)\n",
        "env.process(patient_generator_full(env, bed, total_sick))\n",
        "env.run(until = Total_Time)"
      ],
      "execution_count": 38,
      "outputs": [
        {
          "output_type": "stream",
          "text": [
            "Patient initial 1 arrives hospital at 0\n",
            "at day 1 , 1 people get sicked\n",
            "Patient initial 2 arrives hospital at 0\n",
            "Patient 1 at home at 0\n",
            "Patient 1 returns home.\n",
            "Patient initial 1 is assigned to a bed at 0\n",
            "Patient initial 2 is assigned to a bed at 0\n",
            "at day 2 , 1 people get sicked\n",
            "Patient 2 at home at 1\n",
            "Patient 2 returns home.\n",
            "at day 3 , 1 people get sicked\n",
            "Patient 3 at home at 2\n",
            "Patient 3 returns home.\n",
            "at day 4 , 1 people get sicked\n",
            "Patient 4 at home at 3\n",
            "Patient 4 returns home.\n",
            "Patient 4 is healed at 4 in home\n",
            "at day 5 , 1 people get sicked\n",
            "Patient 5 at home at 4\n",
            "Patient 5 returns home.\n",
            "Patient 1 is healed at 5 in home\n",
            "Patient 2 is healed at 5 in home\n",
            "at day 6 , 1 people get sicked\n",
            "Patient 6 arrives hospital at 5\n",
            "at day 7 , 1 people get sicked\n",
            "Patient 7 at home at 6\n",
            "Patient 7 returns home.\n",
            "Patient initial 1 is healed at 7\n",
            "Patient 6 is assigned to a bed at 7\n",
            "Patient 6 returns home.\n",
            "at day 8 , 1 people get sicked\n",
            "Patient 8 at home at 7\n",
            "Patient 8 returns home.\n",
            "Patient 8 is healed at 8 in home\n",
            "at day 9 , 1 people get sicked\n",
            "Patient 9 at home at 8\n",
            "Patient 9 returns home.\n",
            "Patient 7 is healed at 9 in home\n",
            "Patient 5 is healed at 9 in home\n",
            "Patient 6 is healed at 9\n",
            "at day 10 , 1 people get sicked\n",
            "Patient 10 arrives hospital at 9\n",
            "Patient 10 is assigned to a bed at 9\n",
            "Patient 10 returns home.\n",
            "Patient initial 2 is healed at 10\n",
            "Patient 3 is healed at 10 in home\n",
            "Patient 9 is healed at 10 in home\n"
          ],
          "name": "stdout"
        }
      ]
    },
    {
      "cell_type": "code",
      "metadata": {
        "colab": {
          "base_uri": "https://localhost:8080/"
        },
        "id": "0t1AcYRLmAuI",
        "outputId": "729079c5-73fb-49c3-984a-5d2b49935a23"
      },
      "source": [
        "print(service_times)"
      ],
      "execution_count": 39,
      "outputs": [
        {
          "output_type": "stream",
          "text": [
            "[1, 5, 4, 7, 1, 3, 5, 3, 10, 8, 2]\n"
          ],
          "name": "stdout"
        }
      ]
    },
    {
      "cell_type": "code",
      "metadata": {
        "id": "35Acrm643l7E"
      },
      "source": [
        ""
      ],
      "execution_count": 39,
      "outputs": []
    },
    {
      "cell_type": "code",
      "metadata": {
        "id": "iMRnUkXG3l7E"
      },
      "source": [
        ""
      ],
      "execution_count": 39,
      "outputs": []
    }
  ]
}