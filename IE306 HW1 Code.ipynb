{
 "cells": [
  {
   "cell_type": "markdown",
   "metadata": {},
   "source": [
    "# SimPy Example for IE 306.02\n",
    "This example shows how a simple G/G/1 system (1 server with an infinite capacity queue, random interarrival and service times) can be modeled with a process-interaction view using the SimPy library. \n",
    "\n",
    "In this example customers place calls to the call center of a company at randomn times. There is only a single operator in this call center, and picks up the first call waiting when she is available. The customers are assumed to be extremely paint, as they wait as long as it gets to talk to the operator."
   ]
  },
  {
   "cell_type": "code",
   "execution_count": 84,
   "metadata": {},
   "outputs": [],
   "source": [
    "import simpy\n",
    "import random"
   ]
  },
  {
   "cell_type": "markdown",
   "metadata": {},
   "source": [
    "Define a set of globals that define the characteristics of the model instance to be simulated. This includes the seed (RANDOM_SEED) for the random number generators, and key parameters for the interarrival (i.e. mean arrival rate) and service time (i.e. lower and upper bounds for the range) distribution."
   ]
  },
  {
   "cell_type": "code",
   "execution_count": 85,
   "metadata": {},
   "outputs": [
    {
     "name": "stdout",
     "output_type": "stream",
     "text": [
      "1531 10\n"
     ]
    }
   ],
   "source": [
    "Total_Time = 100000\n",
    "\n",
    "RANDOM_SEED = 978\n",
    "INTERARRIVAL_RATE = 0.1 \n",
    "HEALING_TIME_RANGE = [50, 90]\n",
    "random.seed(RANDOM_SEED)\n",
    "\n",
    "hospital_treating_time_rate = 6\n",
    "home_treating_time_rate = 10\n",
    "r = 1 + random.random()\n",
    "hospital2home_treating_time_rate = 6*r\n",
    "\n",
    "num_of_individuals = 0\n",
    "S = 147 + 177 + 207\n",
    "if(S > 1000): num_of_individuals = S\n",
    "elif(S > 10): num_of_individuals = S + 1000\n",
    "else: num_of_individuals = S*300\n",
    "\n",
    "num_of_beds = num_of_individuals/12\n",
    "exponential_rate = num_of_individuals/300\n",
    "\n",
    "num_of_patients = int(random.expovariate(num_of_individuals/Total_Time))\n",
    "print(num_of_individuals, num_of_patients)"
   ]
  },
  {
   "cell_type": "markdown",
   "metadata": {},
   "source": [
    "Define the necessary set of arrays for bookkeeping"
   ]
  },
  {
   "cell_type": "code",
   "execution_count": 86,
   "metadata": {},
   "outputs": [],
   "source": [
    "service_times = [] #Duration of the conversation between the customer and the operator (Service time)\n",
    "queue_w_times = [] #Time spent by a customer while it waits for the operator (Queue waiting time Wq)"
   ]
  },
  {
   "cell_type": "markdown",
   "metadata": {},
   "source": [
    "* The class definition for the customers arriving at the modeled system. When they are created, they immediatelly initiate a call (i.e. activate the call process). \n",
    "\n",
    "* Once a call is initiated, this is registered as a request to the operator resource. The customer is put on hold until the resource activates it back. \n",
    "\n",
    "* When the resource is available, the customer is activated and it then initiates the ask_question process. The duration of a question-answer session is determined randomly according to a uniform distribution."
   ]
  },
  {
   "cell_type": "code",
   "execution_count": 87,
   "metadata": {},
   "outputs": [],
   "source": [
    "class Patient(object):\n",
    "    def __init__(self, name, env, opr):\n",
    "        self.env = env\n",
    "        self.name = name\n",
    "        self.arrival_t = self.env.now\n",
    "        self.action = env.process(self.try_to_heal())\n",
    "    \n",
    "    \n",
    "    def try_to_heal(self):\n",
    "        if(self.is_going_hospital() == False):\n",
    "            print('%s at home at %g' % (self.name, self.env.now))\n",
    "            yield self.env.process(self.healing())\n",
    "            print('%s is healed at %g in home' % (self.name, self.env.now))\n",
    "        else:\n",
    "            print('%s arrives hospital at %g' % (self.name, self.env.now))\n",
    "            with operator.request() as req:\n",
    "                yield req\n",
    "                print('%s is assigned to an operator at %g' % (self.name, self.env.now))\n",
    "                queue_w_times.append(self.env.now - self.arrival_t)\n",
    "                yield self.env.process(self.healing())\n",
    "                print('%s is healed at %g' % (self.name, self.env.now))\n",
    "            \n",
    "            \n",
    "    def healing(self):\n",
    "        if(self.is_going_hospital):\n",
    "            duration = random.expovariate(hospital_treating_time_rate)\n",
    "        elif(self.is_going_hospital):\n",
    "            duration = random.expovariate(hospital2home_treating_time_rate)\n",
    "        else:\n",
    "            duration = random.expovariate(home_treating_time_rate)\n",
    "        yield self.env.timeout(duration)\n",
    "        service_times.append(duration)\n",
    "        \n",
    "        \n",
    "    def is_going_hospital(self):\n",
    "        random_number = random.random()\n",
    "        if(random_number > 0.2): return False\n",
    "        else: return True\n",
    "    "
   ]
  },
  {
   "cell_type": "code",
   "execution_count": 88,
   "metadata": {},
   "outputs": [],
   "source": [
    "def patient_generator(env, operator):\n",
    "    \"\"\"Generate new patients with using exponential rate!!!.\"\"\"\n",
    "    for i in range(num_of_patients):\n",
    "        yield env.timeout(random.expovariate(INTERARRIVAL_RATE))\n",
    "        patient = Patient('Patient %s' %(i+1), env, operator)  "
   ]
  },
  {
   "cell_type": "code",
   "execution_count": 89,
   "metadata": {},
   "outputs": [
    {
     "name": "stdout",
     "output_type": "stream",
     "text": [
      "Patient 1 at home at 0.975969\n",
      "Patient 1 is healed at 1.07132 in home\n",
      "Patient 2 at home at 17.1839\n",
      "Patient 2 is healed at 17.3405 in home\n",
      "Patient 3 arrives hospital at 33.6839\n",
      "Patient 3 is assigned to an operator at 33.6839\n",
      "Patient 3 is healed at 34.015\n",
      "Patient 4 at home at 40.0728\n",
      "Patient 4 is healed at 40.1238 in home\n",
      "Patient 5 at home at 42.1504\n",
      "Patient 5 is healed at 42.3678 in home\n",
      "Patient 6 at home at 46.6703\n",
      "Patient 6 is healed at 46.9853 in home\n",
      "Patient 7 at home at 83.1811\n",
      "Patient 7 is healed at 83.2244 in home\n",
      "Patient 8 arrives hospital at 102.645\n",
      "Patient 8 is assigned to an operator at 102.645\n",
      "Patient 8 is healed at 102.862\n",
      "Patient 9 at home at 110.02\n",
      "Patient 9 is healed at 110.458 in home\n",
      "Patient 10 arrives hospital at 115.118\n",
      "Patient 10 is assigned to an operator at 115.118\n",
      "Patient 10 is healed at 115.366\n"
     ]
    }
   ],
   "source": [
    "env = simpy.Environment()\n",
    "operator = simpy.Resource(env, capacity = num_of_beds)\n",
    "env.process(patient_generator(env, operator))\n",
    "env.run()"
   ]
  },
  {
   "cell_type": "code",
   "execution_count": 90,
   "metadata": {},
   "outputs": [
    {
     "name": "stdout",
     "output_type": "stream",
     "text": [
      "[0.0, 0.0, 0.0]\n"
     ]
    }
   ],
   "source": [
    "print(queue_w_times)"
   ]
  },
  {
   "cell_type": "code",
   "execution_count": 91,
   "metadata": {},
   "outputs": [
    {
     "name": "stdout",
     "output_type": "stream",
     "text": [
      "[0.0953520620836633, 0.15658744335720862, 0.331093254575622, 0.05100799674898696, 0.217474233214506, 0.3149850023530053, 0.0432156806747217, 0.21699724412420188, 0.43823813222665886, 0.24792682854756953]\n"
     ]
    }
   ],
   "source": [
    "print(service_times)"
   ]
  },
  {
   "cell_type": "code",
   "execution_count": null,
   "metadata": {},
   "outputs": [],
   "source": []
  },
  {
   "cell_type": "code",
   "execution_count": null,
   "metadata": {},
   "outputs": [],
   "source": []
  }
 ],
 "metadata": {
  "kernelspec": {
   "display_name": "Python 3",
   "language": "python",
   "name": "python3"
  },
  "language_info": {
   "codemirror_mode": {
    "name": "ipython",
    "version": 3
   },
   "file_extension": ".py",
   "mimetype": "text/x-python",
   "name": "python",
   "nbconvert_exporter": "python",
   "pygments_lexer": "ipython3",
   "version": "3.8.3"
  }
 },
 "nbformat": 4,
 "nbformat_minor": 2
}
