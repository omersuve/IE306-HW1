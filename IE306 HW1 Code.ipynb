{
  "nbformat": 4,
  "nbformat_minor": 0,
  "metadata": {
    "kernelspec": {
      "display_name": "Python 3",
      "language": "python",
      "name": "python3"
    },
    "language_info": {
      "codemirror_mode": {
        "name": "ipython",
        "version": 3
      },
      "file_extension": ".py",
      "mimetype": "text/x-python",
      "name": "python",
      "nbconvert_exporter": "python",
      "pygments_lexer": "ipython3",
      "version": "3.8.3"
    },
    "colab": {
      "name": "IE306 HW1 Code.ipynb",
      "provenance": []
    }
  },
  "cells": [
    {
      "cell_type": "markdown",
      "metadata": {
        "id": "G7dMdNUzmAt0"
      },
      "source": [
        "# SimPy Example for IE 306.02\n",
        "This example shows how a simple G/G/1 system (1 server with an infinite capacity queue, random interarrival and service times) can be modeled with a process-interaction view using the SimPy library. \n",
        "\n",
        "In this example customers place calls to the call center of a company at randomn times. There is only a single operator in this call center, and picks up the first call waiting when she is available. The customers are assumed to be extremely paint, as they wait as long as it gets to talk to the operator."
      ]
    },
    {
      "cell_type": "code",
      "metadata": {
        "id": "lB3O2mzpmCxz",
        "outputId": "3cd3dd18-aa1f-4b30-dc13-7f6205118330",
        "colab": {
          "base_uri": "https://localhost:8080/"
        }
      },
      "source": [
        "!pip install simpy"
      ],
      "execution_count": 3,
      "outputs": [
        {
          "output_type": "stream",
          "text": [
            "Collecting simpy\n",
            "  Downloading https://files.pythonhosted.org/packages/20/f9/874b0bab83406827db93292a5bbe5acb5c18e3cea665b2f6e053292cb687/simpy-4.0.1-py2.py3-none-any.whl\n",
            "Installing collected packages: simpy\n",
            "Successfully installed simpy-4.0.1\n"
          ],
          "name": "stdout"
        }
      ]
    },
    {
      "cell_type": "code",
      "metadata": {
        "id": "aL2lMreBmAt6"
      },
      "source": [
        "import simpy\n",
        "import random\n",
        "import math"
      ],
      "execution_count": 4,
      "outputs": []
    },
    {
      "cell_type": "markdown",
      "metadata": {
        "id": "dPAFWUhImAt-"
      },
      "source": [
        "Define a set of globals that define the characteristics of the model instance to be simulated. This includes the seed (RANDOM_SEED) for the random number generators, and key parameters for the interarrival (i.e. mean arrival rate) and service time (i.e. lower and upper bounds for the range) distribution."
      ]
    },
    {
      "cell_type": "code",
      "metadata": {
        "id": "IFhy22hvmAt_",
        "outputId": "a212ddd5-299e-48b2-ec88-936019f4c940",
        "colab": {
          "base_uri": "https://localhost:8080/"
        }
      },
      "source": [
        "Total_Time = 100000\n",
        "\n",
        "RANDOM_SEED = 978\n",
        "INTERARRIVAL_RATE = 0.1 \n",
        "HEALING_TIME_RANGE = [50, 90]\n",
        "random.seed(RANDOM_SEED)\n",
        "\n",
        "hospital_treating_time_rate = 6\n",
        "home_treating_time_rate = 10\n",
        "r = 1 + random.random()\n",
        "hospital2home_treating_time_rate = 6*r\n",
        "\n",
        "num_of_individuals = 0\n",
        "S = 147 + 177 + 207\n",
        "if(S > 1000): num_of_individuals = S\n",
        "elif(S > 10): num_of_individuals = S + 1000\n",
        "else: num_of_individuals = S*300\n",
        "\n",
        "num_of_beds = math.ceil(num_of_individuals/12)\n",
        "exponential_rate = num_of_individuals/300\n",
        "\n",
        "num_of_patients = math.ceil(random.expovariate(num_of_individuals/Total_Time))\n",
        "print(num_of_individuals, num_of_patients)"
      ],
      "execution_count": 6,
      "outputs": [
        {
          "output_type": "stream",
          "text": [
            "1531 11\n"
          ],
          "name": "stdout"
        }
      ]
    },
    {
      "cell_type": "markdown",
      "metadata": {
        "id": "_Fongh_MmAuA"
      },
      "source": [
        "Define the necessary set of arrays for bookkeeping"
      ]
    },
    {
      "cell_type": "code",
      "metadata": {
        "id": "T708k2rRmAuB"
      },
      "source": [
        "service_times = [] #Duration of the conversation between the customer and the operator (Service time)\n",
        "queue_w_times = [] #Time spent by a customer while it waits for the operator (Queue waiting time Wq)"
      ],
      "execution_count": null,
      "outputs": []
    },
    {
      "cell_type": "markdown",
      "metadata": {
        "id": "8n3rs-89mAuB"
      },
      "source": [
        "* The class definition for the customers arriving at the modeled system. When they are created, they immediatelly initiate a call (i.e. activate the call process). \n",
        "\n",
        "* Once a call is initiated, this is registered as a request to the operator resource. The customer is put on hold until the resource activates it back. \n",
        "\n",
        "* When the resource is available, the customer is activated and it then initiates the ask_question process. The duration of a question-answer session is determined randomly according to a uniform distribution."
      ]
    },
    {
      "cell_type": "code",
      "metadata": {
        "id": "VMOVuwJHmAuC"
      },
      "source": [
        "class Patient(object):\n",
        "    def __init__(self, name, env, opr):\n",
        "        self.env = env\n",
        "        self.name = name\n",
        "        self.arrival_t = self.env.now\n",
        "        self.action = env.process(self.try_to_heal())\n",
        "    \n",
        "    \n",
        "    def try_to_heal(self):\n",
        "        if(self.is_going_hospital() == False):\n",
        "            print('%s at home at %g' % (self.name, self.env.now))\n",
        "            yield self.env.process(self.healing())\n",
        "            print('%s is healed at %g in home' % (self.name, self.env.now))\n",
        "        else:\n",
        "            print('%s arrives hospital at %g' % (self.name, self.env.now))\n",
        "            with bed.request() as req:\n",
        "                yield req\n",
        "                print('%s is assigned to an bed at %g' % (self.name, self.env.now))\n",
        "                queue_w_times.append(self.env.now - self.arrival_t)\n",
        "                yield self.env.process(self.healing())\n",
        "                print('%s is healed at %g' % (self.name, self.env.now))\n",
        "            \n",
        "            \n",
        "    def healing(self):\n",
        "        if(self.is_going_hospital):\n",
        "            duration = random.expovariate(hospital_treating_time_rate)\n",
        "        elif(self.is_going_hospital):\n",
        "            duration = random.expovariate(hospital2home_treating_time_rate)\n",
        "        else:\n",
        "            duration = random.expovariate(home_treating_time_rate)\n",
        "        yield self.env.timeout(duration)\n",
        "        service_times.append(duration)\n",
        "        \n",
        "        \n",
        "    def is_going_hospital(self):\n",
        "        random_number = random.random()\n",
        "        if(random_number > 0.2): return False\n",
        "        else: return True\n",
        "    "
      ],
      "execution_count": null,
      "outputs": []
    },
    {
      "cell_type": "code",
      "metadata": {
        "id": "0rxGWCJamAuE"
      },
      "source": [
        "def patient_generator(env, bed):\n",
        "    \"\"\"Generate new patients with using exponential rate!!!.\"\"\"\n",
        "    for i in range(num_of_patients):\n",
        "        yield env.timeout(random.expovariate(INTERARRIVAL_RATE))\n",
        "        patient = Patient('Patient %s' %(i+1), env, bed)  "
      ],
      "execution_count": null,
      "outputs": []
    },
    {
      "cell_type": "code",
      "metadata": {
        "id": "WMnkCA82mAuG",
        "outputId": "720f26c8-5f59-4e94-cfc5-e1a49d1ca196"
      },
      "source": [
        "env = simpy.Environment()\n",
        "bed = simpy.Resource(env, capacity = num_of_beds)\n",
        "env.process(patient_generator(env, bed))\n",
        "env.run()"
      ],
      "execution_count": null,
      "outputs": [
        {
          "output_type": "stream",
          "text": [
            "Patient 1 at home at 0.975969\n",
            "Patient 1 is healed at 1.07132 in home\n",
            "Patient 2 at home at 17.1839\n",
            "Patient 2 is healed at 17.3405 in home\n",
            "Patient 3 arrives hospital at 33.6839\n",
            "Patient 3 is assigned to an operator at 33.6839\n",
            "Patient 3 is healed at 34.015\n",
            "Patient 4 at home at 40.0728\n",
            "Patient 4 is healed at 40.1238 in home\n",
            "Patient 5 at home at 42.1504\n",
            "Patient 5 is healed at 42.3678 in home\n",
            "Patient 6 at home at 46.6703\n",
            "Patient 6 is healed at 46.9853 in home\n",
            "Patient 7 at home at 83.1811\n",
            "Patient 7 is healed at 83.2244 in home\n",
            "Patient 8 arrives hospital at 102.645\n",
            "Patient 8 is assigned to an operator at 102.645\n",
            "Patient 8 is healed at 102.862\n",
            "Patient 9 at home at 110.02\n",
            "Patient 9 is healed at 110.458 in home\n",
            "Patient 10 arrives hospital at 115.118\n",
            "Patient 10 is assigned to an operator at 115.118\n",
            "Patient 10 is healed at 115.366\n"
          ],
          "name": "stdout"
        }
      ]
    },
    {
      "cell_type": "code",
      "metadata": {
        "id": "2LDsEGQAmAuI",
        "outputId": "1c376c66-3b07-440f-a823-0450a57b51c2"
      },
      "source": [
        "print(queue_w_times)"
      ],
      "execution_count": null,
      "outputs": [
        {
          "output_type": "stream",
          "text": [
            "[0.0, 0.0, 0.0]\n"
          ],
          "name": "stdout"
        }
      ]
    },
    {
      "cell_type": "code",
      "metadata": {
        "id": "0t1AcYRLmAuI",
        "outputId": "71c8024d-aa59-4fdd-838b-e5b1c4cbf730"
      },
      "source": [
        "print(service_times)"
      ],
      "execution_count": null,
      "outputs": [
        {
          "output_type": "stream",
          "text": [
            "[0.0953520620836633, 0.15658744335720862, 0.331093254575622, 0.05100799674898696, 0.217474233214506, 0.3149850023530053, 0.0432156806747217, 0.21699724412420188, 0.43823813222665886, 0.24792682854756953]\n"
          ],
          "name": "stdout"
        }
      ]
    },
    {
      "cell_type": "code",
      "metadata": {
        "id": "Ue9vixPRmAuK"
      },
      "source": [
        ""
      ],
      "execution_count": null,
      "outputs": []
    },
    {
      "cell_type": "code",
      "metadata": {
        "id": "78sf19FImAuM"
      },
      "source": [
        ""
      ],
      "execution_count": null,
      "outputs": []
    }
  ]
}