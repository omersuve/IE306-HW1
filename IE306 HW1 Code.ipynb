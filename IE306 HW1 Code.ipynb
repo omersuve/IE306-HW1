{
  "nbformat": 4,
  "nbformat_minor": 0,
  "metadata": {
    "colab": {
      "name": "IE306 HW1 Code.ipynb",
      "provenance": []
    },
    "kernelspec": {
      "display_name": "Python 3",
      "language": "python",
      "name": "python3"
    },
    "language_info": {
      "codemirror_mode": {
        "name": "ipython",
        "version": 3
      },
      "file_extension": ".py",
      "mimetype": "text/x-python",
      "name": "python",
      "nbconvert_exporter": "python",
      "pygments_lexer": "ipython3",
      "version": "3.8.3"
    }
  },
  "cells": [
    {
      "cell_type": "code",
      "metadata": {
        "id": "aL2lMreBmAt6"
      },
      "source": [
        "!pip install simpy\n",
        "import simpy\n",
        "import random\n",
        "import math\n",
        "import numpy as np"
      ],
      "execution_count": null,
      "outputs": []
    },
    {
      "cell_type": "code",
      "metadata": {
        "id": "IFhy22hvmAt_"
      },
      "source": [
        "Total_Time = 100\n",
        "\n",
        "RANDOM_SEED = 1\n",
        "random.seed(RANDOM_SEED)\n",
        "\n",
        "hospital_treating_time_rate = 6\n",
        "home_treating_time_rate = 10\n",
        "\n",
        "num_of_individuals = 0\n",
        "S = 147 + 177 + 207\n",
        "if(S > 1000): num_of_individuals = S\n",
        "elif(S > 10): num_of_individuals = S + 1000\n",
        "else: num_of_individuals = S*300\n",
        "    \n",
        "total_sick = 0\n",
        "    \n",
        "num_of_beds = math.ceil(num_of_individuals/12)\n",
        "exponential_rate = num_of_individuals/300\n",
        "\n",
        "print(num_of_individuals, exponential_rate, num_of_beds)"
      ],
      "execution_count": null,
      "outputs": []
    },
    {
      "cell_type": "code",
      "metadata": {
        "id": "T708k2rRmAuB"
      },
      "source": [
        "service_times = [] #Duration of the conversation between the customer and the operator (Service time)\n",
        "daily_patient = []\n",
        "daily_fullness = []"
      ],
      "execution_count": 115,
      "outputs": []
    },
    {
      "cell_type": "code",
      "metadata": {
        "id": "VMOVuwJHmAuC"
      },
      "source": [
        "class Patient(object):\n",
        "    def __init__(self, name, env, opr, isInitial):\n",
        "        self.env = env\n",
        "        self.name = name\n",
        "        self.arrival_t = self.env.now\n",
        "        self.r = random.uniform(1,2)\n",
        "        self.hospital2home_treating_time_rate = 6*self.r\n",
        "        self.isInitial = isInitial\n",
        "        self.action = env.process(self.try_to_heal())\n",
        "        self.duration = 0\n",
        "    \n",
        "    def try_to_heal(self):\n",
        "        if(not self.isInitial and self.is_going_hospital() == False):\n",
        "            print('%s\\thome    \\t%g\\t%g/%g\\t\\t-' % (self.name, math.ceil(self.env.now),bed.count,num_of_beds))\n",
        "            yield self.env.process(self.healing())\n",
        "            print('%s\\thealed  \\t%g\\t%g/%g\\t\\t%g' % (self.name, math.ceil(self.env.now),bed.count,num_of_beds,self.duration))\n",
        "        else:\n",
        "            with bed.request() as req:\n",
        "                yield req\n",
        "                if not self.isInitial:\n",
        "                  print('%s\\thospital\\t%g\\t%g/%g\\t\\t-' % (self.name, math.ceil(self.env.now),bed.count,num_of_beds))\n",
        "                yield self.env.process(self.healing())\n",
        "                print('%s\\thealed  \\t%g\\t%g/%g\\t\\t%g' % (self.name, math.ceil(self.env.now),bed.count,num_of_beds,self.duration))\n",
        "            \n",
        "    def healing(self):\n",
        "        if((self.is_going_hospital and bed.count != num_of_beds) or self.isInitial):\n",
        "            self.duration = random.expovariate(1.0/hospital_treating_time_rate)\n",
        "        elif(self.is_going_hospital):\n",
        "            print(\"%s\\treject  %g\\t%g/%g\\t\\t-\" %(self.name, math.ceil(self.env.now),bed.count,num_of_beds))\n",
        "            self.duration = random.expovariate(1.0/self.hospital2home_treating_time_rate)\n",
        "        else:\n",
        "            self.duration = random.expovariate(1.0/home_treating_time_rate)\n",
        "        yield self.env.timeout(self.duration)\n",
        "        service_times.append(math.ceil(self.duration))\n",
        "        \n",
        "    def is_going_hospital(self):\n",
        "        random_number = random.random()\n",
        "        if(random_number > 0.2): return False\n",
        "        else: return True\n",
        "    "
      ],
      "execution_count": 116,
      "outputs": []
    },
    {
      "cell_type": "code",
      "metadata": {
        "id": "0rxGWCJamAuE"
      },
      "source": [
        "def patient_generator(env, bed, total_sick):\n",
        "    \"\"\"Generate new patients with using exponential rate!!!.\"\"\"\n",
        "    for i in range(Total_Time):\n",
        "        sick_num_in_day = round(random.expovariate(1.0/exponential_rate))\n",
        "        daily_patient.append(sick_num_in_day)\n",
        "        daily_fullness.append(bed.count)\n",
        "        for j in range(sick_num_in_day):\n",
        "            patient = Patient('Patient %s' %(total_sick+1), env, bed, False)\n",
        "            total_sick = total_sick + 1\n",
        "        \n",
        "        yield env.timeout(1)"
      ],
      "execution_count": 117,
      "outputs": []
    },
    {
      "cell_type": "code",
      "metadata": {
        "id": "kQp4yq4E00Jf"
      },
      "source": [
        "def patient_generator_half_full(env, bed, total_sick):\n",
        "    for i in range (num_of_beds // 2):\n",
        "        yield env.timeout(0)\n",
        "        patient = Patient('Initial %s' %(i+1), env, bed, True)\n",
        "    for i in range(Total_Time):\n",
        "        sick_num_in_day = round(random.expovariate(1.0/exponential_rate))\n",
        "        daily_patient.append(sick_num_in_day)\n",
        "        daily_fullness.append(bed.count)\n",
        "\n",
        "        for j in range(sick_num_in_day):\n",
        "            patient = Patient('Patient %s' %(total_sick+1), env, bed, False)\n",
        "            total_sick = total_sick + 1\n",
        "        \n",
        "        yield env.timeout(1)"
      ],
      "execution_count": 118,
      "outputs": []
    },
    {
      "cell_type": "code",
      "metadata": {
        "id": "JM-ziYIV1ZSE"
      },
      "source": [
        "def patient_generator_full(env, bed, total_sick):\n",
        "    for i in range (num_of_beds):\n",
        "        yield env.timeout(0)\n",
        "        patient = Patient('Initial %s' %(i+1), env, bed, True)\n",
        "    for i in range(Total_Time):\n",
        "        sick_num_in_day = round(random.expovariate(1.0/exponential_rate)) \n",
        "        daily_patient.append(sick_num_in_day)\n",
        "        daily_fullness.append(bed.count)\n",
        "\n",
        "        for j in range(sick_num_in_day):\n",
        "            patient = Patient('Patient %s' %(total_sick+1), env, bed, False)\n",
        "            total_sick = total_sick + 1\n",
        "        \n",
        "        yield env.timeout(1)"
      ],
      "execution_count": 119,
      "outputs": []
    },
    {
      "cell_type": "code",
      "metadata": {
        "id": "WMnkCA82mAuG"
      },
      "source": [
        "env = simpy.Environment()\n",
        "bed = simpy.Resource(env, capacity = num_of_beds)\n",
        "env.process(patient_generator_half_full(env, bed, total_sick))\n",
        "env.run(until = Total_Time)"
      ],
      "execution_count": null,
      "outputs": []
    },
    {
      "cell_type": "code",
      "metadata": {
        "id": "35Acrm643l7E"
      },
      "source": [
        "print(service_times)\n",
        "print(str(np.mean(service_times)))"
      ],
      "execution_count": null,
      "outputs": []
    },
    {
      "cell_type": "code",
      "metadata": {
        "id": "iMRnUkXG3l7E"
      },
      "source": [
        "print(daily_patient)\n",
        "print(str(np.mean(daily_patient)))"
      ],
      "execution_count": null,
      "outputs": []
    },
    {
      "cell_type": "code",
      "metadata": {
        "id": "LKtT__WLE1Sb"
      },
      "source": [
        "print(daily_fullness)\n",
        "print(str(np.mean(daily_fullness)))\n",
        "print(daily_fullness.count(0))"
      ],
      "execution_count": null,
      "outputs": []
    }
  ]
}