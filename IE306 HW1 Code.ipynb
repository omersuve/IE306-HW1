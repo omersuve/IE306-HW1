{
 "cells": [
  {
   "cell_type": "code",
   "execution_count": 338,
   "metadata": {
    "id": "aL2lMreBmAt6"
   },
   "outputs": [],
   "source": [
    "import simpy\n",
    "import random\n",
    "import math\n",
    "import numpy as np"
   ]
  },
  {
   "cell_type": "code",
   "execution_count": 339,
   "metadata": {
    "colab": {
     "base_uri": "https://localhost:8080/"
    },
    "id": "IFhy22hvmAt_",
    "outputId": "8718c0aa-cd2a-4dba-f7c6-9a84b5c8e983"
   },
   "outputs": [
    {
     "name": "stdout",
     "output_type": "stream",
     "text": [
      "24 0.08 2\n"
     ]
    }
   ],
   "source": [
    "Total_Time = 10\n",
    "\n",
    "RANDOM_SEED = 981\n",
    "random.seed(RANDOM_SEED)\n",
    "\n",
    "hospital_treating_time_rate = 6\n",
    "home_treating_time_rate = 10\n",
    "\n",
    "num_of_individuals = 0\n",
    "S = 147 + 177 + 207\n",
    "if(S > 1000): num_of_individuals = S\n",
    "elif(S > 10): num_of_individuals = S + 1000\n",
    "else: num_of_individuals = S*300\n",
    "    \n",
    "total_sicked = 0\n",
    "\n",
    "num_of_individuals = 24\n",
    "    \n",
    "num_of_beds = math.ceil(num_of_individuals/12)\n",
    "exponential_rate = num_of_individuals/300\n",
    "\n",
    "print(num_of_individuals, exponential_rate, num_of_beds)"
   ]
  },
  {
   "cell_type": "markdown",
   "metadata": {
    "id": "_Fongh_MmAuA"
   },
   "source": [
    "Define the necessary set of arrays for bookkeeping"
   ]
  },
  {
   "cell_type": "code",
   "execution_count": 340,
   "metadata": {
    "id": "T708k2rRmAuB"
   },
   "outputs": [],
   "source": [
    "service_times = [] #Duration of the conversation between the customer and the operator (Service time)"
   ]
  },
  {
   "cell_type": "code",
   "execution_count": 341,
   "metadata": {
    "id": "VMOVuwJHmAuC"
   },
   "outputs": [],
   "source": [
    "class Patient(object):\n",
    "    def __init__(self, name, env, opr, isInitial):\n",
    "        self.env = env\n",
    "        self.name = name\n",
    "        self.arrival_t = self.env.now\n",
    "        self.r = random.uniform(1,2)\n",
    "        self.hospital2home_treating_time_rate = 6*self.r\n",
    "        self.isInitial = isInitial\n",
    "        self.action = env.process(self.try_to_heal())\n",
    "    \n",
    "    \n",
    "    def try_to_heal(self):\n",
    "        if(not self.isInitial and self.is_going_hospital() == False):\n",
    "            print('%s at home at %g' % (self.name, math.ceil(self.env.now)))\n",
    "            yield self.env.process(self.healing())\n",
    "            print('%s is healed at %g in home' % (self.name, math.ceil(self.env.now)))\n",
    "        else:\n",
    "            print('%s arrives hospital at %g' % (self.name, math.ceil(self.env.now)))\n",
    "            with bed.request() as req:\n",
    "                yield req\n",
    "                print('%s is assigned to a bed at %g' % (self.name, math.ceil(self.env.now)))\n",
    "                yield self.env.process(self.healing())\n",
    "                print('%s is healed at %g' % (self.name, math.ceil(self.env.now)))\n",
    "            \n",
    "            \n",
    "    def healing(self):\n",
    "        if((self.is_going_hospital and bed.count != num_of_beds) or self.isInitial):\n",
    "            duration = random.expovariate(1.0/hospital_treating_time_rate)\n",
    "        elif(self.is_going_hospital):\n",
    "            print(\"%s returns home.\" %(self.name))\n",
    "            duration = random.expovariate(1.0/self.hospital2home_treating_time_rate)\n",
    "        else:\n",
    "            duration = random.expovariate(1.0/home_treating_time_rate)\n",
    "        yield self.env.timeout(duration)\n",
    "        service_times.append(duration)\n",
    "        \n",
    "        \n",
    "    def is_going_hospital(self):\n",
    "        random_number = random.random()\n",
    "        if(random_number > 0.2): return False\n",
    "        else: return True\n",
    "    "
   ]
  },
  {
   "cell_type": "code",
   "execution_count": 342,
   "metadata": {
    "id": "0rxGWCJamAuE"
   },
   "outputs": [],
   "source": [
    "def patient_generator(env, bed):\n",
    "    \"\"\"Generate new patients with using exponential rate!!!.\"\"\"\n",
    "    for i in range(Total_Time):\n",
    "        sicked_num_in_day = math.ceil(random.expovariate(1.0/exponential_rate))\n",
    "        print('at day %s , %s people get sicked' %((i+1), sicked_num_in_day))\n",
    "        \n",
    "        #yield env.timeout(random.expovariate(exponential_rate))\n",
    "        \n",
    "        for j in range(sicked_num_in_day):\n",
    "            patient = Patient('Patient %s' %(total_sicked+1), env, bed, False)\n",
    "            total_sicked = total_sicked + 1\n",
    "        \n",
    "        yield env.timeout(1)"
   ]
  },
  {
   "cell_type": "code",
   "execution_count": 343,
   "metadata": {
    "id": "kQp4yq4E00Jf"
   },
   "outputs": [],
   "source": [
    "def patient_generator_half_full(env, bed):\n",
    "    for i in range (num_of_beds // 2):\n",
    "        yield env.timeout(0)\n",
    "        patient = Patient('Patient initial %s' %(i+1), env, bed, True)\n",
    "    for i in range(Total_Time):\n",
    "        sicked_num_in_day = math.ceil(random.expovariate(1.0/exponential_rate))\n",
    "        print('at day %s , %s people get sicked' %((i+1), sicked_num_in_day))\n",
    "        \n",
    "        #yield env.timeout(random.expovariate(exponential_rate))\n",
    "        \n",
    "        for j in range(sicked_num_in_day):\n",
    "            patient = Patient('Patient %s' %(total_sicked+1), env, bed, False)\n",
    "            total_sicked = total_sicked + 1\n",
    "        \n",
    "        yield env.timeout(1)"
   ]
  },
  {
   "cell_type": "code",
   "execution_count": 344,
   "metadata": {
    "id": "JM-ziYIV1ZSE"
   },
   "outputs": [],
   "source": [
    "def patient_generator_full(env, bed, total_sicked):\n",
    "    for i in range (num_of_beds):\n",
    "        yield env.timeout(0)\n",
    "        patient = Patient('Patient initial %s' %(i+1), env, bed, True)\n",
    "    for i in range(Total_Time):\n",
    "        sicked_num_in_day = math.ceil(random.expovariate(1.0/exponential_rate))\n",
    "        print('at day %s , %s people get sicked' %((i+1), sicked_num_in_day))\n",
    "        \n",
    "        #yield env.timeout(random.expovariate(exponential_rate))\n",
    "        \n",
    "        for j in range(sicked_num_in_day):\n",
    "            patient = Patient('Patient %s' %(total_sicked+1), env, bed, False)\n",
    "            total_sicked = total_sicked + 1\n",
    "        \n",
    "        yield env.timeout(1)"
   ]
  },
  {
   "cell_type": "code",
   "execution_count": 345,
   "metadata": {
    "colab": {
     "base_uri": "https://localhost:8080/"
    },
    "id": "WMnkCA82mAuG",
    "outputId": "fcaf20b0-9fea-480f-bdbf-fd54443325cb"
   },
   "outputs": [
    {
     "name": "stdout",
     "output_type": "stream",
     "text": [
      "Patient initial 1 arrives hospital at 0\n",
      "at day 1 , 1 people get sicked\n",
      "Patient initial 2 arrives hospital at 0\n",
      "Patient 1 at home at 0\n",
      "Patient 1 returns home.\n",
      "Patient initial 1 is assigned to a bed at 0\n",
      "Patient initial 2 is assigned to a bed at 0\n",
      "at day 2 , 1 people get sicked\n",
      "Patient 2 arrives hospital at 1\n",
      "Patient 1 is healed at 2 in home\n",
      "at day 3 , 1 people get sicked\n",
      "Patient 3 at home at 2\n",
      "Patient 3 returns home.\n",
      "Patient initial 1 is healed at 3\n",
      "Patient 2 is assigned to a bed at 3\n",
      "Patient 2 returns home.\n",
      "at day 4 , 1 people get sicked\n",
      "Patient 4 at home at 3\n",
      "Patient 4 returns home.\n",
      "Patient 4 is healed at 4 in home\n",
      "Patient initial 2 is healed at 4\n",
      "at day 5 , 1 people get sicked\n",
      "Patient 5 at home at 4\n",
      "at day 6 , 1 people get sicked\n",
      "Patient 6 at home at 5\n",
      "Patient 2 is healed at 6\n",
      "at day 7 , 1 people get sicked\n",
      "Patient 7 arrives hospital at 6\n",
      "Patient 7 is assigned to a bed at 6\n",
      "Patient 6 is healed at 7 in home\n",
      "at day 8 , 1 people get sicked\n",
      "Patient 8 at home at 7\n",
      "at day 9 , 1 people get sicked\n",
      "Patient 9 at home at 8\n",
      "at day 10 , 1 people get sicked\n",
      "Patient 10 at home at 9\n"
     ]
    }
   ],
   "source": [
    "env = simpy.Environment()\n",
    "bed = simpy.Resource(env, capacity = num_of_beds)\n",
    "env.process(patient_generator_full(env, bed, total_sicked))\n",
    "env.run(until = Total_Time)"
   ]
  },
  {
   "cell_type": "code",
   "execution_count": 346,
   "metadata": {
    "colab": {
     "base_uri": "https://localhost:8080/"
    },
    "id": "0t1AcYRLmAuI",
    "outputId": "8d7599da-7a70-4c20-afc9-f1b8b8b8fa07"
   },
   "outputs": [
    {
     "name": "stdout",
     "output_type": "stream",
     "text": [
      "[1.2569471417657516, 2.7066075054765077, 0.3926077551484271, 3.7301204351135158, 3.123838418112681, 1.4752262786130719]\n"
     ]
    }
   ],
   "source": [
    "print(service_times)"
   ]
  },
  {
   "cell_type": "code",
   "execution_count": null,
   "metadata": {},
   "outputs": [],
   "source": []
  },
  {
   "cell_type": "code",
   "execution_count": null,
   "metadata": {},
   "outputs": [],
   "source": []
  }
 ],
 "metadata": {
  "colab": {
   "name": "IE306 HW1 Code.ipynb",
   "provenance": []
  },
  "kernelspec": {
   "display_name": "Python 3",
   "language": "python",
   "name": "python3"
  },
  "language_info": {
   "codemirror_mode": {
    "name": "ipython",
    "version": 3
   },
   "file_extension": ".py",
   "mimetype": "text/x-python",
   "name": "python",
   "nbconvert_exporter": "python",
   "pygments_lexer": "ipython3",
   "version": "3.8.3"
  }
 },
 "nbformat": 4,
 "nbformat_minor": 1
}
