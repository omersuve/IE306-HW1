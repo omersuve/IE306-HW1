{
  "nbformat": 4,
  "nbformat_minor": 0,
  "metadata": {
    "kernelspec": {
      "display_name": "Python 3",
      "language": "python",
      "name": "python3"
    },
    "language_info": {
      "codemirror_mode": {
        "name": "ipython",
        "version": 3
      },
      "file_extension": ".py",
      "mimetype": "text/x-python",
      "name": "python",
      "nbconvert_exporter": "python",
      "pygments_lexer": "ipython3",
      "version": "3.8.3"
    },
    "colab": {
      "name": "IE306 HW1 Code.ipynb",
      "provenance": []
    }
  },
  "cells": [
    {
      "cell_type": "markdown",
      "metadata": {
        "id": "G7dMdNUzmAt0"
      },
      "source": [
        "# SimPy Example for IE 306.02\n",
        "This example shows how a simple G/G/1 system (1 server with an infinite capacity queue, random interarrival and service times) can be modeled with a process-interaction view using the SimPy library. \n",
        "\n",
        "In this example customers place calls to the call center of a company at randomn times. There is only a single operator in this call center, and picks up the first call waiting when she is available. The customers are assumed to be extremely paint, as they wait as long as it gets to talk to the operator."
      ]
    },
    {
      "cell_type": "code",
      "metadata": {
        "colab": {
          "base_uri": "https://localhost:8080/"
        },
        "id": "lB3O2mzpmCxz",
        "outputId": "23d52702-5256-4b40-df7a-30da60eeaada"
      },
      "source": [
        "!pip install simpy"
      ],
      "execution_count": 81,
      "outputs": [
        {
          "output_type": "stream",
          "text": [
            "Requirement already satisfied: simpy in /usr/local/lib/python3.7/dist-packages (4.0.1)\n"
          ],
          "name": "stdout"
        }
      ]
    },
    {
      "cell_type": "code",
      "metadata": {
        "id": "aL2lMreBmAt6"
      },
      "source": [
        "import simpy\n",
        "import random\n",
        "import math"
      ],
      "execution_count": 82,
      "outputs": []
    },
    {
      "cell_type": "markdown",
      "metadata": {
        "id": "dPAFWUhImAt-"
      },
      "source": [
        "Define a set of globals that define the characteristics of the model instance to be simulated. This includes the seed (RANDOM_SEED) for the random number generators, and key parameters for the interarrival (i.e. mean arrival rate) and service time (i.e. lower and upper bounds for the range) distribution."
      ]
    },
    {
      "cell_type": "code",
      "metadata": {
        "colab": {
          "base_uri": "https://localhost:8080/"
        },
        "id": "IFhy22hvmAt_",
        "outputId": "e0f3ee2a-8fcd-4f9a-bbbc-8e5455f26b53"
      },
      "source": [
        "Total_Time = 100000\n",
        "\n",
        "RANDOM_SEED = 978\n",
        "INTERARRIVAL_RATE = 0.1 \n",
        "random.seed(RANDOM_SEED)\n",
        "\n",
        "hospital_treating_time_rate = 6\n",
        "home_treating_time_rate = 10\n",
        "hospital2home_treating_time_rate = 6*r\n",
        "\n",
        "num_of_individuals = 0\n",
        "S = 147 + 177 + 207\n",
        "if(S > 1000): num_of_individuals = S\n",
        "elif(S > 10): num_of_individuals = S + 1000\n",
        "else: num_of_individuals = S*300\n",
        "\n",
        "num_of_beds = math.ceil(num_of_individuals/12)\n",
        "exponential_rate = num_of_individuals/300\n",
        "\n",
        "num_of_patients = math.ceil(random.expovariate(num_of_individuals/Total_Time))\n",
        "print(num_of_individuals, num_of_patients, r)"
      ],
      "execution_count": 83,
      "outputs": [
        {
          "output_type": "stream",
          "text": [
            "1531 289 1.9879529669203548\n"
          ],
          "name": "stdout"
        }
      ]
    },
    {
      "cell_type": "markdown",
      "metadata": {
        "id": "_Fongh_MmAuA"
      },
      "source": [
        "Define the necessary set of arrays for bookkeeping"
      ]
    },
    {
      "cell_type": "code",
      "metadata": {
        "id": "T708k2rRmAuB"
      },
      "source": [
        "service_times = [] #Duration of the conversation between the customer and the operator (Service time)"
      ],
      "execution_count": 84,
      "outputs": []
    },
    {
      "cell_type": "markdown",
      "metadata": {
        "id": "8n3rs-89mAuB"
      },
      "source": [
        "* The class definition for the customers arriving at the modeled system. When they are created, they immediatelly initiate a call (i.e. activate the call process). \n",
        "\n",
        "* Once a call is initiated, this is registered as a request to the operator resource. The customer is put on hold until the resource activates it back. \n",
        "\n",
        "* When the resource is available, the customer is activated and it then initiates the ask_question process. The duration of a question-answer session is determined randomly according to a uniform distribution."
      ]
    },
    {
      "cell_type": "code",
      "metadata": {
        "id": "VMOVuwJHmAuC"
      },
      "source": [
        "class Patient(object):\n",
        "    def __init__(self, name, env, opr):\n",
        "        self.env = env\n",
        "        self.name = name\n",
        "        self.arrival_t = self.env.now\n",
        "        self.r = random.uniform(1,2)\n",
        "        self.action = env.process(self.try_to_heal())\n",
        "    \n",
        "    \n",
        "    def try_to_heal(self):\n",
        "        if(self.is_going_hospital() == False):\n",
        "            print('%s at home at %g' % (self.name, math.ceil(self.env.now)))\n",
        "            yield self.env.process(self.healing())\n",
        "            print('%s is healed at %g in home' % (self.name, math.ceil(self.env.now)))\n",
        "        else:\n",
        "            print('%s arrives hospital at %g' % (self.name, math.ceil(self.env.now)))\n",
        "            with bed.request() as req:\n",
        "                yield req\n",
        "                print('%s is assigned to an bed at %g' % (self.name, math.ceil(self.env.now)))\n",
        "                yield self.env.process(self.healing())\n",
        "                print('%s is healed at %g' % (self.name, math.ceil(self.env.now)))\n",
        "            \n",
        "            \n",
        "    def healing(self):\n",
        "        if(self.is_going_hospital and bed.count != num_of_beds):\n",
        "            duration = random.expovariate(1.0/hospital_treating_time_rate)\n",
        "        elif(self.is_going_hospital):\n",
        "            duration = random.expovariate(1.0/hospital2home_treating_time_rate)\n",
        "        else:\n",
        "            duration = random.expovariate(1.0/home_treating_time_rate)\n",
        "        yield self.env.timeout(duration)\n",
        "        service_times.append(duration)\n",
        "        \n",
        "        \n",
        "    def is_going_hospital(self):\n",
        "        random_number = random.random()\n",
        "        if(random_number > 0.2): return False\n",
        "        else: return True\n",
        "    "
      ],
      "execution_count": 85,
      "outputs": []
    },
    {
      "cell_type": "code",
      "metadata": {
        "id": "0rxGWCJamAuE"
      },
      "source": [
        "def patient_generator(env, bed):\n",
        "    \"\"\"Generate new patients with using exponential rate!!!.\"\"\"\n",
        "    for i in range(num_of_patients):\n",
        "        yield env.timeout(random.expovariate(INTERARRIVAL_RATE))\n",
        "        patient = Patient('Patient %s' %(i+1), env, bed)  "
      ],
      "execution_count": 86,
      "outputs": []
    },
    {
      "cell_type": "code",
      "metadata": {
        "id": "WMnkCA82mAuG"
      },
      "source": [
        "env = simpy.Environment()\n",
        "bed = simpy.Resource(env, capacity = num_of_beds)\n",
        "env.process(patient_generator(env, bed))\n",
        "env.run()"
      ],
      "execution_count": null,
      "outputs": []
    },
    {
      "cell_type": "code",
      "metadata": {
        "colab": {
          "base_uri": "https://localhost:8080/"
        },
        "id": "0t1AcYRLmAuI",
        "outputId": "ad705478-35c2-429e-eb11-401dea356e00"
      },
      "source": [
        "print(service_times)"
      ],
      "execution_count": 89,
      "outputs": [
        {
          "output_type": "stream",
          "text": [
            "[3.432674235011879, 3.833283246874041, 14.12352231597659, 7.829072395722217, 11.678090290993989, 0.22589314964950116, 0.12786088103587684, 15.77657276015972, 5.198171690638639, 10.549840189330729, 2.5700611525207857, 2.131818946649559, 7.1729546500174575, 14.989611130023462, 4.007450516112128, 3.988555798949945, 4.385147906115849, 7.776439502486757, 6.632814722752768, 2.235684504711231, 2.5357802111726504, 11.646375142703876, 2.233128072592993, 6.7410500822070585, 0.5395018342564907, 1.4527597235052887, 2.8477896730697156, 26.277517852551966, 0.3398495874489467, 3.2375149750463854, 2.877034275308843, 21.06344273258537, 0.2729295670532327, 20.68357092172196, 12.569266349786746, 7.9628435758004334, 0.5816818582693353, 5.392100977754625, 3.55324863194173, 4.434231646136567, 17.679874093430726, 2.4857261556314496, 3.9237297482015125, 7.728609868564054, 2.6416273671216697, 5.927719535417098, 3.534479552549958, 16.423838242917405, 4.496378179436732, 13.879022072976266, 7.244217798514993, 0.12855610435727868, 14.572918502251113, 6.030171086008186, 8.594646624291551, 4.832128578619736, 0.7973068856516033, 7.380017799332793, 0.5274699731233299, 8.388755219483434, 0.8390762047593283, 3.27562151492674, 6.106828314426464, 1.580941994227721, 8.772958817134839, 4.012253094210372, 2.421347974123454, 5.458467754930256, 4.072854082367632, 1.4840579879804547, 6.45105608697441, 2.076529431378928, 0.06980316417911371, 16.10340326934492, 0.3708635766549244, 1.7859663678614817, 15.839634183795463, 1.8216256257653327, 1.8890663136498538, 10.534823998747731, 2.5431617306366063, 2.910054025700499, 17.768358802547304, 9.970751616516884, 6.455982802079853, 8.92478999001051, 6.258766667360512, 1.852614808252134, 0.04387122241696703, 8.084508300280007, 0.946320851619393, 0.5066102326660588, 8.84427235844237, 9.370943584527268, 18.211811796588183, 0.9312684630296794, 4.421116179635943, 2.0707873261689422, 5.528063098814689, 5.133816727950735, 13.478916788992636, 4.484559158530002, 1.8872737813232583, 13.565242709145894, 1.0443060584828165, 18.140783077456867, 7.7018407372341695, 2.3742848906313956, 3.9287949480043545, 17.359857594776006, 5.005589506654162, 22.337750499606308, 2.7681357752268987, 5.773416942611012, 9.27527870399707, 7.998497190477871, 18.833741100089956, 6.394496734908719, 14.664950576529932, 14.080581010269425, 13.957044110443855, 26.285024000622588, 5.71424699016525, 4.979760488032588, 7.382969323115518, 1.9381487275008504, 16.15343883235579, 3.6959709315158804, 4.906251024305713, 4.572788330314451, 21.051820999203137, 2.7906857028080827, 0.9465451304362471, 3.7710386370792466, 7.9850635498375935, 2.4053199516008648, 4.240951578013148, 1.2945714398956072, 1.1055504984858897, 3.8114356613561156, 6.049927154229386, 0.16103566570255848, 0.43210580339726823, 6.879369977964028, 3.0501205272941565, 4.209195767827351, 10.791238855759826, 0.3652550772351066, 8.877052141696458, 11.483613253691889, 5.796827158358084, 3.1963600812748703, 5.425688413322192, 0.5764291490944775, 4.588376203212479, 2.4290148462594905, 12.482665271157993, 2.8471994078925102, 14.039081435496561, 5.2146889214802075, 6.26654776921044, 7.512616165863762, 5.044789541298989, 0.8255735877804807, 3.3724894729697543, 0.33048083696164354, 13.506423238855431, 17.31983543228222, 4.4494575993462595, 25.622923551685922, 1.5480511182629177, 1.1719872520966148, 2.2047918113127207, 2.2769388076540484, 0.8174864123761402, 10.081134999372999, 8.084754591272544, 3.7011928407795183, 17.832135218188387, 2.4208888256378955, 2.208564501919564, 13.39706370669139, 6.819222720237339, 1.326278615258754, 19.704521086143007, 1.9855104359581226, 1.3877468218975968, 0.04538757413638381, 3.7367641104370026, 6.3464465859470005, 3.296084092479873, 1.1554670620108423, 0.3168607235168261, 0.9412851367289237, 20.492717310028166, 3.3312453571005443, 0.3334795080900412, 3.5542289647687944, 7.381045464207277, 3.869197250150897, 8.894868345510812, 10.792331850464914, 1.0989594469462396, 4.975841225328156, 4.342766720773452, 0.6803398484566553, 5.44244993242993, 10.721029069751209, 0.7329639129913208, 5.49566542999807, 5.62487294276862, 5.708246526444601, 1.2189715162256805, 0.013905572991786436, 4.315629557077105, 11.829649145403371, 2.5527078993667622, 5.7437382318087975, 10.833745767330194, 15.104923984876066, 0.23867305087564478, 8.419909572891132, 3.414596502441455, 3.094698811624392, 0.6799070183425301, 8.23723956527268, 10.657356790424352, 1.0884868140186186, 14.322748137442485, 4.238872364734399, 5.510694923065889, 15.680514494338407, 2.88117079263646, 7.634795394712727, 8.999139799241055, 1.4756984389170251, 10.708629665732616, 3.5259585293739235, 15.820650105901262, 0.8452480918982646, 4.476708036476587, 0.10634199712528465, 2.677467166931166, 28.027960623329253, 12.54599582447105, 1.308868970773721, 8.736055091103596, 13.067695125164157, 9.17976030279663, 7.208025689609208, 31.893371317518213, 1.5398644056116473, 8.376719539532298, 7.828305072645262, 1.985409459075267, 7.1950296351365495, 4.305850118193942, 3.0880034066795448, 8.182184896094634, 4.72430845544749, 11.374476439914478, 16.967289243768295, 1.1078513322320596, 2.704930953454342, 11.119239545711531, 15.664563749410883, 4.208810305730734, 12.49578647518356, 7.903878243677643, 10.001295107841703, 8.917137381549285, 33.434771386240605, 9.120325113849288, 15.152649204759284, 12.512249583009003, 0.42619983147939083, 21.77110356455097, 2.2502440818078093, 1.4803373376400992, 6.531200975052643, 0.7985426254148773, 2.3698805613197167, 1.4299011093317362, 18.09307249063344, 10.929235065446022, 1.3176324208559553, 13.584542580076025, 2.6596589824595047, 1.0157675105805408]\n"
          ],
          "name": "stdout"
        }
      ]
    }
  ]
}